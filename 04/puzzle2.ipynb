{
 "cells": [
  {
   "cell_type": "code",
   "execution_count": 21,
   "metadata": {},
   "outputs": [
    {
     "name": "stdout",
     "output_type": "stream",
     "text": [
      "13261850\n"
     ]
    }
   ],
   "source": [
    "extra_cards = {}\n",
    "\n",
    "processed_cards = 0\n",
    "\n",
    "with open('input') as f:\n",
    "    for line in f:\n",
    "        line = str(line.strip())\n",
    "        game_no = int(line.split(\":\")[0].split()[1])\n",
    "        winning_str = line.split(\":\")[1].split(\"|\")[0].strip().split(\" \")\n",
    "        winning = []\n",
    "        for number in winning_str:\n",
    "            if number.isnumeric() is not True:\n",
    "                continue\n",
    "            winning.append(int(number))\n",
    "        have_str = line.split(\":\")[1].split(\"|\")[1].strip().split(\" \")\n",
    "        have = []\n",
    "        for number in have_str:\n",
    "            if number.isnumeric() is not True:\n",
    "                continue\n",
    "            have.append(int(number))\n",
    "        found_numbers = 0\n",
    "        for number in winning:\n",
    "            if number in have:\n",
    "                found_numbers += 1\n",
    "\n",
    "        if game_no in extra_cards:\n",
    "            no_of_current_card = 1 + extra_cards[game_no]\n",
    "        else:\n",
    "            no_of_current_card = 1\n",
    "\n",
    "        for adds in range(1, found_numbers+1):\n",
    "            if game_no + adds not in extra_cards:\n",
    "                extra_cards[game_no + adds] = no_of_current_card\n",
    "            else:\n",
    "                extra_cards[game_no + adds] += no_of_current_card\n",
    "        \n",
    "        if game_no in extra_cards:\n",
    "            processed_cards += extra_cards[game_no]\n",
    "            del extra_cards[game_no]\n",
    "        processed_cards += 1 \n",
    "\n",
    "print(processed_cards)\n"
   ]
  }
 ],
 "metadata": {
  "kernelspec": {
   "display_name": ".venv",
   "language": "python",
   "name": "python3"
  },
  "language_info": {
   "codemirror_mode": {
    "name": "ipython",
    "version": 3
   },
   "file_extension": ".py",
   "mimetype": "text/x-python",
   "name": "python",
   "nbconvert_exporter": "python",
   "pygments_lexer": "ipython3",
   "version": "3.10.12"
  }
 },
 "nbformat": 4,
 "nbformat_minor": 2
}

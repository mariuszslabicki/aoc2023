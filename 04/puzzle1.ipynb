{
 "cells": [
  {
   "cell_type": "code",
   "execution_count": 31,
   "metadata": {},
   "outputs": [
    {
     "name": "stdout",
     "output_type": "stream",
     "text": [
      "23750\n"
     ]
    }
   ],
   "source": [
    "sum = 0\n",
    "\n",
    "with open('input') as f:\n",
    "    for line in f:\n",
    "        line = str(line.strip())\n",
    "        winning_str = line.split(\":\")[1].split(\"|\")[0].strip().split(\" \")\n",
    "        winning = []\n",
    "        for number in winning_str:\n",
    "            if number.isnumeric() is not True:\n",
    "                continue\n",
    "            winning.append(int(number))\n",
    "        have_str = line.split(\":\")[1].split(\"|\")[1].strip().split(\" \")\n",
    "        have = []\n",
    "        for number in have_str:\n",
    "            if number.isnumeric() is not True:\n",
    "                continue\n",
    "            have.append(int(number))\n",
    "        row_value = 0\n",
    "        expt = 0\n",
    "        for number in have:\n",
    "            if number in winning:\n",
    "                if row_value == 0:\n",
    "                    row_value = 1\n",
    "                else:\n",
    "                    row_value *=2\n",
    "        sum += row_value\n",
    "\n",
    "print(sum)\n"
   ]
  }
 ],
 "metadata": {
  "kernelspec": {
   "display_name": ".venv",
   "language": "python",
   "name": "python3"
  },
  "language_info": {
   "codemirror_mode": {
    "name": "ipython",
    "version": 3
   },
   "file_extension": ".py",
   "mimetype": "text/x-python",
   "name": "python",
   "nbconvert_exporter": "python",
   "pygments_lexer": "ipython3",
   "version": "3.10.12"
  }
 },
 "nbformat": 4,
 "nbformat_minor": 2
}

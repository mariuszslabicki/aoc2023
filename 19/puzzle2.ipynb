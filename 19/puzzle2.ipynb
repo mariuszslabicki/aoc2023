{
 "cells": [
  {
   "cell_type": "code",
   "execution_count": 1,
   "metadata": {},
   "outputs": [
    {
     "ename": "KeyboardInterrupt",
     "evalue": "",
     "output_type": "error",
     "traceback": [
      "\u001b[0;31m---------------------------------------------------------------------------\u001b[0m",
      "\u001b[0;31mKeyboardInterrupt\u001b[0m                         Traceback (most recent call last)",
      "Cell \u001b[0;32mIn[1], line 62\u001b[0m\n\u001b[1;32m     60\u001b[0m \u001b[38;5;28;01mif\u001b[39;00m rule[\u001b[38;5;241m0\u001b[39m] \u001b[38;5;129;01min\u001b[39;00m \u001b[38;5;28mobject\u001b[39m:\n\u001b[1;32m     61\u001b[0m     val \u001b[38;5;241m=\u001b[39m \u001b[38;5;28mobject\u001b[39m[rule[\u001b[38;5;241m0\u001b[39m]]\n\u001b[0;32m---> 62\u001b[0m     threshold \u001b[38;5;241m=\u001b[39m \u001b[38;5;28;43mint\u001b[39;49m\u001b[43m(\u001b[49m\u001b[43mrule\u001b[49m\u001b[43m[\u001b[49m\u001b[38;5;241;43m2\u001b[39;49m\u001b[43m]\u001b[49m\u001b[43m)\u001b[49m\n\u001b[1;32m     63\u001b[0m     \u001b[38;5;28;01mif\u001b[39;00m rule[\u001b[38;5;241m1\u001b[39m] \u001b[38;5;241m==\u001b[39m \u001b[38;5;124m'\u001b[39m\u001b[38;5;124m<\u001b[39m\u001b[38;5;124m'\u001b[39m:\n\u001b[1;32m     64\u001b[0m         \u001b[38;5;28;01mif\u001b[39;00m val \u001b[38;5;241m<\u001b[39m threshold:\n",
      "\u001b[0;31mKeyboardInterrupt\u001b[0m: "
     ]
    }
   ],
   "source": [
    "workflows = dict()\n",
    "objects = []\n",
    "\n",
    "rules_finished = False\n",
    "with open('example_input') as f:\n",
    "    for line in f:\n",
    "        if len(line) == 1 and rules_finished is False:\n",
    "            rules_finished = True\n",
    "            continue\n",
    "        if rules_finished is False:\n",
    "            line = line.strip()\n",
    "            name = line.split('{')[0]\n",
    "            rules = line.split('{')[1][:-1]\n",
    "            rules = rules.split(',')\n",
    "            rules_to_save = []\n",
    "            for rule in rules:\n",
    "                new_rule = rule.split(\":\")\n",
    "                if len(new_rule) > 1:\n",
    "                    com_1 = new_rule[0][0]\n",
    "                    com_2 = new_rule[0][1]\n",
    "                    com_3 = new_rule[0][2:]\n",
    "                    com_4 = new_rule[1]\n",
    "                    rules_to_save.append([com_1, com_2, com_3, com_4])\n",
    "                else:\n",
    "                    rules_to_save.append([new_rule[0]])\n",
    "            workflows[name] = rules_to_save   \n",
    "\n",
    "        if rules_finished is True:\n",
    "            line = line.strip()[1:-1].split(\",\")\n",
    "            new_object = dict()\n",
    "            for metric in line:\n",
    "                var = metric[0]\n",
    "                value = int(metric[2:])\n",
    "                new_object[var] = value\n",
    "            objects.append(new_object)\n",
    "\n",
    "total = 0\n",
    "\n",
    "for x in range(1, 4001):\n",
    "    print(x)\n",
    "    for m in range(1, 4001):\n",
    "        for a in range(1, 4001):\n",
    "            for s in range(1, 4001):\n",
    "                object = dict()\n",
    "                object['x'] = x\n",
    "                object['m'] = m\n",
    "                object['a'] = a\n",
    "                object['s'] = s\n",
    "                next_workflow = \"in\"\n",
    "                while True:\n",
    "                    if next_workflow in ['A', 'R']:\n",
    "                        if next_workflow == 'A':\n",
    "                            for key in object.keys():\n",
    "                                total += object[key]\n",
    "                        break\n",
    "                    for rule in workflows[next_workflow]:\n",
    "                        next_workflow = None\n",
    "                        if len(rule) == 1:\n",
    "                            next_workflow = rule[0]\n",
    "                            break\n",
    "                        if rule[0] in object:\n",
    "                            val = object[rule[0]]\n",
    "                            threshold = int(rule[2])\n",
    "                            if rule[1] == '<':\n",
    "                                if val < threshold:\n",
    "                                    next_workflow = rule[3]\n",
    "                                    break\n",
    "                            if rule[1] == '>':\n",
    "                                if val > threshold:\n",
    "                                    next_workflow = rule[3]\n",
    "                                    break\n",
    "                    \n",
    "print(total)"
   ]
  }
 ],
 "metadata": {
  "kernelspec": {
   "display_name": ".venv",
   "language": "python",
   "name": "python3"
  },
  "language_info": {
   "codemirror_mode": {
    "name": "ipython",
    "version": 3
   },
   "file_extension": ".py",
   "mimetype": "text/x-python",
   "name": "python",
   "nbconvert_exporter": "python",
   "pygments_lexer": "ipython3",
   "version": "3.10.12"
  }
 },
 "nbformat": 4,
 "nbformat_minor": 2
}

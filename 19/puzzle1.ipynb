{
 "cells": [
  {
   "cell_type": "code",
   "execution_count": 75,
   "metadata": {},
   "outputs": [
    {
     "name": "stdout",
     "output_type": "stream",
     "text": [
      "406849\n"
     ]
    }
   ],
   "source": [
    "workflows = dict()\n",
    "objects = []\n",
    "\n",
    "rules_finished = False\n",
    "with open('input') as f:\n",
    "    for line in f:\n",
    "        if len(line) == 1 and rules_finished is False:\n",
    "            rules_finished = True\n",
    "            continue\n",
    "        if rules_finished is False:\n",
    "            line = line.strip()\n",
    "            name = line.split('{')[0]\n",
    "            rules = line.split('{')[1][:-1]\n",
    "            rules = rules.split(',')\n",
    "            rules_to_save = []\n",
    "            for rule in rules:\n",
    "                new_rule = rule.split(\":\")\n",
    "                if len(new_rule) > 1:\n",
    "                    com_1 = new_rule[0][0]\n",
    "                    com_2 = new_rule[0][1]\n",
    "                    com_3 = new_rule[0][2:]\n",
    "                    com_4 = new_rule[1]\n",
    "                    rules_to_save.append([com_1, com_2, com_3, com_4])\n",
    "                else:\n",
    "                    rules_to_save.append([new_rule[0]])\n",
    "            workflows[name] = rules_to_save   \n",
    "\n",
    "        if rules_finished is True:\n",
    "            line = line.strip()[1:-1].split(\",\")\n",
    "            new_object = dict()\n",
    "            for metric in line:\n",
    "                var = metric[0]\n",
    "                value = int(metric[2:])\n",
    "                new_object[var] = value\n",
    "            objects.append(new_object)\n",
    "\n",
    "total = 0\n",
    "\n",
    "for object in objects:\n",
    "    next_workflow = \"in\"\n",
    "    while True:\n",
    "        if next_workflow in ['A', 'R']:\n",
    "            if next_workflow == 'A':\n",
    "                for key in object.keys():\n",
    "                    total += object[key]\n",
    "            break\n",
    "        for rule in workflows[next_workflow]:\n",
    "            next_workflow = None\n",
    "            if len(rule) == 1:\n",
    "                next_workflow = rule[0]\n",
    "                break\n",
    "            if rule[0] in object:\n",
    "                val = object[rule[0]]\n",
    "                threshold = int(rule[2])\n",
    "                if rule[1] == '<':\n",
    "                    if val < threshold:\n",
    "                        next_workflow = rule[3]\n",
    "                        break\n",
    "                if rule[1] == '>':\n",
    "                    if val > threshold:\n",
    "                        next_workflow = rule[3]\n",
    "                        break\n",
    "                    \n",
    "print(total)"
   ]
  }
 ],
 "metadata": {
  "kernelspec": {
   "display_name": ".venv",
   "language": "python",
   "name": "python3"
  },
  "language_info": {
   "codemirror_mode": {
    "name": "ipython",
    "version": 3
   },
   "file_extension": ".py",
   "mimetype": "text/x-python",
   "name": "python",
   "nbconvert_exporter": "python",
   "pygments_lexer": "ipython3",
   "version": "3.10.12"
  }
 },
 "nbformat": 4,
 "nbformat_minor": 2
}

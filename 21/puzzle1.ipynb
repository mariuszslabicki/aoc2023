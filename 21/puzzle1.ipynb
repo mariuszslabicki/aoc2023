{
 "cells": [
  {
   "cell_type": "code",
   "execution_count": 17,
   "metadata": {},
   "outputs": [
    {
     "name": "stdout",
     "output_type": "stream",
     "text": [
      "3682\n"
     ]
    }
   ],
   "source": [
    "map = dict()\n",
    "\n",
    "max_x = -1\n",
    "max_y =  -1\n",
    "\n",
    "\n",
    "with open('input') as f:\n",
    "    y = 0\n",
    "    for line in f:\n",
    "        line = line.strip()\n",
    "        max_x = len(line)\n",
    "        for x in range(len(line)):\n",
    "            map[(x, y)] = line[x]\n",
    "            if line[x] == 'S':\n",
    "                start_pos = (x, y)\n",
    "                map[(x, y)] = '.'\n",
    "        y += 1\n",
    "        max_y = y\n",
    "\n",
    "current_positions = set()\n",
    "current_positions.add(start_pos)\n",
    "\n",
    "for i in range(64):\n",
    "    next_positions = set()\n",
    "    for position in current_positions:\n",
    "        shifts = [(0, 1), (0, -1), (1, 0), (-1, 0)]\n",
    "        for shift in shifts:\n",
    "            new_candidate = (position[0] + shift[0], position[1] + shift[1])\n",
    "            if new_candidate[0] < 0 or new_candidate[0] > max_x or new_candidate[1] < 0 or new_candidate[1] > max_y:\n",
    "                continue\n",
    "            if new_candidate not in current_positions and map[new_candidate] != '#':\n",
    "                next_positions.add(new_candidate)\n",
    "    current_positions = next_positions\n",
    "\n",
    "print(len(next_positions))\n"
   ]
  }
 ],
 "metadata": {
  "kernelspec": {
   "display_name": ".venv",
   "language": "python",
   "name": "python3"
  },
  "language_info": {
   "codemirror_mode": {
    "name": "ipython",
    "version": 3
   },
   "file_extension": ".py",
   "mimetype": "text/x-python",
   "name": "python",
   "nbconvert_exporter": "python",
   "pygments_lexer": "ipython3",
   "version": "3.10.12"
  }
 },
 "nbformat": 4,
 "nbformat_minor": 2
}

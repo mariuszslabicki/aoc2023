{
 "cells": [
  {
   "cell_type": "code",
   "execution_count": 8,
   "metadata": {},
   "outputs": [
    {
     "name": "stdout",
     "output_type": "stream",
     "text": [
      "668697\n"
     ]
    }
   ],
   "source": [
    "map = dict()\n",
    "\n",
    "max_x = -1\n",
    "max_y =  -1\n",
    "\n",
    "\n",
    "with open('example_input') as f:\n",
    "    y = 0\n",
    "    for line in f:\n",
    "        line = line.strip()\n",
    "        max_x = len(line)\n",
    "        for x in range(len(line)):\n",
    "            map[(x, y)] = line[x]\n",
    "            if line[x] == 'S':\n",
    "                start_pos = (x, y)\n",
    "                map[(x, y)] = '.'\n",
    "        y += 1\n",
    "        max_y = y\n",
    "\n",
    "board_x = 0\n",
    "board_y = 0\n",
    "\n",
    "on_the_edge = set()\n",
    "on_the_edge.add(start_pos)\n",
    "\n",
    "visited = set()\n",
    "\n",
    "no_of_steps = 5000\n",
    "no_of_steps += 1\n",
    "\n",
    "total = 0\n",
    "\n",
    "for i in range(no_of_steps):\n",
    "    new_edge = set()\n",
    "    for position in on_the_edge:\n",
    "        total += (no_of_steps-i)%2\n",
    "        shifts = [(0, 1), (0, -1), (1, 0), (-1, 0)]\n",
    "        for shift in shifts:\n",
    "            new_candidate = (position[0] + shift[0], position[1] + shift[1])\n",
    "            if new_candidate in visited:# or new_candidate in on_the_edge: \n",
    "                continue\n",
    "            shadow = new_candidate\n",
    "            shadow = ((position[0] + shift[0])%max_x, (position[1] + shift[1])%max_y)\n",
    "            if map[shadow] == '#':\n",
    "                continue\n",
    "            visited.add(position)\n",
    "            new_edge.add(new_candidate)\n",
    "    \n",
    "    visited = on_the_edge\n",
    "    on_the_edge = new_edge\n",
    "\n",
    "print(total)"
   ]
  }
 ],
 "metadata": {
  "kernelspec": {
   "display_name": ".venv",
   "language": "python",
   "name": "python3"
  },
  "language_info": {
   "codemirror_mode": {
    "name": "ipython",
    "version": 3
   },
   "file_extension": ".py",
   "mimetype": "text/x-python",
   "name": "python",
   "nbconvert_exporter": "python",
   "pygments_lexer": "ipython3",
   "version": "3.10.12"
  }
 },
 "nbformat": 4,
 "nbformat_minor": 2
}

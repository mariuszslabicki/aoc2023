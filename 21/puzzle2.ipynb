{
 "cells": [
  {
   "cell_type": "code",
   "execution_count": 37,
   "metadata": {},
   "outputs": [
    {
     "name": "stdout",
     "output_type": "stream",
     "text": [
      "609012263058042\n"
     ]
    }
   ],
   "source": [
    "# 609000221382485 is wrong\n",
    "# 609000221382486 is wrong\n",
    "# 609006242205383 is wrong\n",
    "# 609006242205384 is wrong\n",
    "# \n",
    "\n",
    "import numpy as np\n",
    "\n",
    "map = dict()\n",
    "\n",
    "max_x = -1\n",
    "max_y =  -1\n",
    "\n",
    "\n",
    "with open('input') as f:\n",
    "    y = 0\n",
    "    for line in f:\n",
    "        line = line.strip()\n",
    "        max_x = len(line)\n",
    "        for x in range(len(line)):\n",
    "            map[(x, y)] = line[x]\n",
    "            if line[x] == 'S':\n",
    "                start_pos = (x, y)\n",
    "                map[(x, y)] = '.'\n",
    "        y += 1\n",
    "        max_y = y\n",
    "\n",
    "steps_vec = [65, 196, 327, 458, 589]\n",
    "y_vec = []\n",
    "for steps in steps_vec:\n",
    "    on_the_edge = set()\n",
    "    on_the_edge.add(start_pos)\n",
    "    visited = set()\n",
    "    no_of_steps = steps\n",
    "    no_of_steps += 1\n",
    "    total = 0\n",
    "    for i in range(no_of_steps):\n",
    "        new_edge = set()\n",
    "        for position in on_the_edge:\n",
    "            total += (no_of_steps-i)%2\n",
    "            shifts = [(0, 1), (0, -1), (1, 0), (-1, 0)]\n",
    "            for shift in shifts:\n",
    "                new_candidate = (position[0] + shift[0], position[1] + shift[1])\n",
    "                if new_candidate in visited:# or new_candidate in on_the_edge: \n",
    "                    continue\n",
    "                shadow = new_candidate\n",
    "                shadow = ((position[0] + shift[0])%max_x, (position[1] + shift[1])%max_y)\n",
    "                if map[shadow] == '#':\n",
    "                    continue\n",
    "                visited.add(position)\n",
    "                new_edge.add(new_candidate)\n",
    "        visited = on_the_edge\n",
    "        on_the_edge = new_edge\n",
    "    y_vec.append(total)\n",
    "\n",
    "model = np.poly1d(np.polyfit([0, 1, 2, 3, 4], y_vec, 2))\n",
    "\n",
    "exp_no_of_steps = 26501365\n",
    "rounds = (exp_no_of_steps - 65) / 131\n",
    "print(round(model(rounds)))"
   ]
  }
 ],
 "metadata": {
  "kernelspec": {
   "display_name": ".venv",
   "language": "python",
   "name": "python3"
  },
  "language_info": {
   "codemirror_mode": {
    "name": "ipython",
    "version": 3
   },
   "file_extension": ".py",
   "mimetype": "text/x-python",
   "name": "python",
   "nbconvert_exporter": "python",
   "pygments_lexer": "ipython3",
   "version": "3.10.12"
  }
 },
 "nbformat": 4,
 "nbformat_minor": 2
}

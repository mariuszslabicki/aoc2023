{
 "cells": [
  {
   "cell_type": "code",
   "execution_count": 52,
   "metadata": {},
   "outputs": [
    {
     "name": "stdout",
     "output_type": "stream",
     "text": [
      "6536\n"
     ]
    }
   ],
   "source": [
    "map = dict()\n",
    "\n",
    "max_x = -1\n",
    "max_y =  -1\n",
    "\n",
    "\n",
    "with open('example_input') as f:\n",
    "    y = 0\n",
    "    for line in f:\n",
    "        line = line.strip()\n",
    "        max_x = len(line)\n",
    "        for x in range(len(line)):\n",
    "            map[(x, y)] = line[x]\n",
    "            if line[x] == 'S':\n",
    "                start_pos = (x, y)\n",
    "                map[(x, y)] = '.'\n",
    "        y += 1\n",
    "        max_y = y\n",
    "board_x = 0\n",
    "board_y = 0\n",
    "\n",
    "current_board = set()\n",
    "current_board.add(start_pos)\n",
    "\n",
    "boards = dict()\n",
    "boards[(board_x, board_y)] = current_board\n",
    "\n",
    "for i in range(500):\n",
    "    next_boards = dict()\n",
    "    # print(len(boards))\n",
    "    for board in boards.keys():\n",
    "        for position in boards[board]:\n",
    "            shifts = [(0, 1), (0, -1), (1, 0), (-1, 0)]\n",
    "            for shift in shifts:\n",
    "                target_board = board\n",
    "                new_candidate = (position[0] + shift[0], position[1] + shift[1])\n",
    "                if new_candidate[0] < 0:\n",
    "                    target_board = (target_board[0]-1, target_board[1])\n",
    "                    new_candidate = (position[0] + shift[0] + max_x, position[1] + shift[1])\n",
    "                if new_candidate[0] >= max_x:\n",
    "                    target_board = (target_board[0]+1, target_board[1])\n",
    "                    new_candidate = (position[0] + shift[0] - max_x, position[1] + shift[1])\n",
    "                if new_candidate[1] < 0:\n",
    "                    target_board = (target_board[0], target_board[1]-1)\n",
    "                    new_candidate = (position[0] + shift[0], position[1] + shift[1] + max_y)\n",
    "                if new_candidate[1] >= max_y:\n",
    "                    target_board = (target_board[0], target_board[1]+1)\n",
    "                    new_candidate = (position[0] + shift[0], position[1] + shift[1] - max_y)\n",
    "\n",
    "                # representation = (new_candidate[0] % max_x, new_candidate[1] % max_y)\n",
    "                \n",
    "                if target_board not in next_boards:\n",
    "                    next_boards[target_board] = set()\n",
    "\n",
    "                if new_candidate not in next_boards[target_board] and map[new_candidate] != '#':\n",
    "                    next_boards[target_board].add(new_candidate)\n",
    "\n",
    "    boards = next_boards\n",
    "\n",
    "total = 0\n",
    "for board in boards.keys():\n",
    "    # print(board)\n",
    "    total += len(boards[board])\n",
    "\n",
    "print(total)\n",
    "\n",
    "# for y in range(max_y):\n",
    "#     for x in range(max_x):\n",
    "#         print(map[(x, y)], end=\"\")\n",
    "#     print(\"\")\n"
   ]
  }
 ],
 "metadata": {
  "kernelspec": {
   "display_name": ".venv",
   "language": "python",
   "name": "python3"
  },
  "language_info": {
   "codemirror_mode": {
    "name": "ipython",
    "version": 3
   },
   "file_extension": ".py",
   "mimetype": "text/x-python",
   "name": "python",
   "nbconvert_exporter": "python",
   "pygments_lexer": "ipython3",
   "version": "3.10.12"
  }
 },
 "nbformat": 4,
 "nbformat_minor": 2
}

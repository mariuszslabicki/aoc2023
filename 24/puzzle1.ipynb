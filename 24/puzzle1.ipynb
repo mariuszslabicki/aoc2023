{
 "cells": [
  {
   "cell_type": "code",
   "execution_count": 33,
   "metadata": {},
   "outputs": [
    {
     "name": "stdout",
     "output_type": "stream",
     "text": [
      "Found intersections: 16172\n"
     ]
    }
   ],
   "source": [
    "min_x = min_y = 200000000000000\n",
    "max_x = max_y = 400000000000000\n",
    "\n",
    "hailstones = []\n",
    "\n",
    "with open('input') as f:\n",
    "    for line in f:\n",
    "        line = line.strip().split()\n",
    "        hailstone = [int(line[0][:-1]), int(line[1][:-1]), int(line[2]), int(line[4][:-1]), int(line[5][:-1]), int(line[6])]\n",
    "        hailstones.append(hailstone)\n",
    "\n",
    "found = 0\n",
    "\n",
    "for i in range(len(hailstones)):\n",
    "    for j in range(i, len(hailstones)):\n",
    "        hl_1 = hailstones[i]\n",
    "        hl_2 = hailstones[j]\n",
    "        if hl_1 == hl_2:\n",
    "            continue\n",
    "        A1 = (hl_1[4]) / (hl_1[3])\n",
    "        A2 = (hl_2[4]) / (hl_2[3])\n",
    "        B1 = (hl_1[1]*(hl_1[0] + hl_1[3]) - hl_1[0]*(hl_1[1] + hl_1[4])) / hl_1[3]\n",
    "        B2 = (hl_2[1]*(hl_2[0] + hl_2[3]) - hl_2[0]*(hl_2[1] + hl_2[4])) / hl_2[3]\n",
    "        if A1 == A2:\n",
    "            continue\n",
    "        x = (B2 - B1) / (A1 - A2)\n",
    "        y = A1 * x + B1\n",
    "        \n",
    "        if hl_1[3] > 0 and x < hl_1[0]:\n",
    "            continue\n",
    "        if hl_1[3] < 0 and x > hl_1[0]:\n",
    "            continue\n",
    "        if hl_2[3] > 0 and x < hl_2[0]:\n",
    "            continue\n",
    "        if hl_2[3] < 0 and x > hl_2[0]:\n",
    "            continue\n",
    "\n",
    "        if min_x < x and x < max_x and min_y < y and y < max_y:\n",
    "            found += 1\n",
    "\n",
    "print(\"Found intersections:\", found)\n"
   ]
  }
 ],
 "metadata": {
  "kernelspec": {
   "display_name": ".venv",
   "language": "python",
   "name": "python3"
  },
  "language_info": {
   "codemirror_mode": {
    "name": "ipython",
    "version": 3
   },
   "file_extension": ".py",
   "mimetype": "text/x-python",
   "name": "python",
   "nbconvert_exporter": "python",
   "pygments_lexer": "ipython3",
   "version": "3.10.12"
  }
 },
 "nbformat": 4,
 "nbformat_minor": 2
}

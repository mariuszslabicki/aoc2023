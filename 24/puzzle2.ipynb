{
 "cells": [
  {
   "cell_type": "code",
   "execution_count": 9,
   "metadata": {},
   "outputs": [
    {
     "name": "stdout",
     "output_type": "stream",
     "text": [
      "600352360036779\n"
     ]
    }
   ],
   "source": [
    "import numpy as np\n",
    "from sympy import Symbol\n",
    "from sympy import solve_poly_system\n",
    "\n",
    "hailstones = []\n",
    "\n",
    "with open('input') as f:\n",
    "    for line in f:\n",
    "        line = line.strip().split()\n",
    "        hailstone = [int(line[0][:-1]), int(line[1][:-1]), int(line[2]), int(line[4][:-1]), int(line[5][:-1]), int(line[6])]\n",
    "        hailstones.append(hailstone)\n",
    "\n",
    "x = Symbol('x')\n",
    "y = Symbol('y')\n",
    "z = Symbol('z')\n",
    "vx = Symbol('vx')\n",
    "vy = Symbol('vy')\n",
    "vz = Symbol('vz')\n",
    "\n",
    "equations = []\n",
    "t_syms = []\n",
    "\n",
    "for idx,stone in enumerate(hailstones[:3]):\n",
    "    x0,y0,z0,xv,yv,zv = stone\n",
    "    t = Symbol('t'+str(idx))\n",
    "\n",
    "    eqx = x + vx*t - x0 - xv*t\n",
    "    eqy = y + vy*t - y0 - yv*t\n",
    "    eqz = z + vz*t - z0 - zv*t\n",
    "\n",
    "    equations.append(eqx)\n",
    "    equations.append(eqy)\n",
    "    equations.append(eqz)\n",
    "    t_syms.append(t)\n",
    "\n",
    "result = solve_poly_system(equations,*([x,y,z,vx,vy,vz]+t_syms))\n",
    "print(result[0][0]+result[0][1]+result[0][2])"
   ]
  }
 ],
 "metadata": {
  "kernelspec": {
   "display_name": ".venv",
   "language": "python",
   "name": "python3"
  },
  "language_info": {
   "codemirror_mode": {
    "name": "ipython",
    "version": 3
   },
   "file_extension": ".py",
   "mimetype": "text/x-python",
   "name": "python",
   "nbconvert_exporter": "python",
   "pygments_lexer": "ipython3",
   "version": "3.10.12"
  }
 },
 "nbformat": 4,
 "nbformat_minor": 2
}

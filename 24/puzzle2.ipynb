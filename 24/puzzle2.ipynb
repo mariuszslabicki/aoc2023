{
 "cells": [
  {
   "cell_type": "code",
   "execution_count": 33,
   "metadata": {},
   "outputs": [
    {
     "name": "stdout",
     "output_type": "stream",
     "text": [
      "Found intersections: 16172\n"
     ]
    }
   ],
   "source": [
    "hailstones = []\n",
    "\n",
    "with open('example_input') as f:\n",
    "    for line in f:\n",
    "        line = line.strip().split()\n",
    "        hailstone = [int(line[0][:-1]), int(line[1][:-1]), int(line[2]), int(line[4][:-1]), int(line[5][:-1]), int(line[6])]\n",
    "        hailstones.append(hailstone)\n",
    "\n"
   ]
  }
 ],
 "metadata": {
  "kernelspec": {
   "display_name": ".venv",
   "language": "python",
   "name": "python3"
  },
  "language_info": {
   "codemirror_mode": {
    "name": "ipython",
    "version": 3
   },
   "file_extension": ".py",
   "mimetype": "text/x-python",
   "name": "python",
   "nbconvert_exporter": "python",
   "pygments_lexer": "ipython3",
   "version": "3.10.12"
  }
 },
 "nbformat": 4,
 "nbformat_minor": 2
}

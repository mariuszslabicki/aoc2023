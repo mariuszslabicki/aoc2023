{
 "cells": [
  {
   "cell_type": "code",
   "execution_count": 21,
   "metadata": {},
   "outputs": [
    {
     "name": "stdout",
     "output_type": "stream",
     "text": [
      "35915\n"
     ]
    }
   ],
   "source": [
    "def findReflection(matrix):\n",
    "    total_val = 0\n",
    "    for y in range(len(matrix)-1):\n",
    "        u = y\n",
    "        d = y+1\n",
    "\n",
    "        total_diff = 0\n",
    "        while u >= 0 and d < len(matrix):\n",
    "            for x in range(len(matrix[0])):\n",
    "                if matrix[u][x] != matrix[d][x]:\n",
    "                    total_diff += 1\n",
    "            u -= 1\n",
    "            d += 1\n",
    "        if total_diff == 1:\n",
    "            total_val += 100*(y+1)\n",
    "\n",
    "    for x in range(len(matrix[0])-1):\n",
    "        l = x\n",
    "        r = x+1\n",
    "        total_diff = 0\n",
    "        \n",
    "        while l >= 0 and r < len(matrix[0]):\n",
    "            for y in range(len(matrix)):\n",
    "                if matrix[y][l] != matrix[y][r]:\n",
    "                    total_diff += 1\n",
    "            l -= 1\n",
    "            r += 1\n",
    "        if total_diff == 1:\n",
    "            total_val += (x+1)\n",
    "       \n",
    "    return total_val\n",
    "\n",
    "total = 0\n",
    "\n",
    "with open('input') as f:\n",
    "    matrix = []\n",
    "    row_no = 0\n",
    "    for line in f:\n",
    "        line = line.strip()\n",
    "        if len(line) > 1:\n",
    "            new_row = []\n",
    "            for element in line:\n",
    "                if element == '#':\n",
    "                    new_row.append(1)\n",
    "                else:\n",
    "                    new_row.append(0)\n",
    "            matrix.append(new_row)\n",
    "        else:\n",
    "            total += findReflection(matrix)\n",
    "            matrix = []\n",
    "    total += findReflection(matrix)\n",
    "\n",
    "print(total)"
   ]
  }
 ],
 "metadata": {
  "kernelspec": {
   "display_name": ".venv",
   "language": "python",
   "name": "python3"
  },
  "language_info": {
   "codemirror_mode": {
    "name": "ipython",
    "version": 3
   },
   "file_extension": ".py",
   "mimetype": "text/x-python",
   "name": "python",
   "nbconvert_exporter": "python",
   "pygments_lexer": "ipython3",
   "version": "3.10.12"
  }
 },
 "nbformat": 4,
 "nbformat_minor": 2
}

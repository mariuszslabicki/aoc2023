{
 "cells": [
  {
   "cell_type": "code",
   "execution_count": 14,
   "metadata": {},
   "outputs": [
    {
     "name": "stdout",
     "output_type": "stream",
     "text": [
      "Before shift\n",
      "[[1, 0, 1], [1, 1, 1], [1, 2, 1]]\n",
      "[[0, 0, 2], [1, 0, 2], [2, 0, 2]]\n",
      "[[0, 2, 3], [1, 2, 3], [2, 2, 3]]\n",
      "[[0, 0, 4], [0, 1, 4], [0, 2, 4]]\n",
      "[[2, 0, 5], [2, 1, 5], [2, 2, 5]]\n",
      "[[0, 1, 6], [1, 1, 6], [2, 1, 6]]\n",
      "[[1, 1, 8], [1, 1, 9]]\n",
      "After shift\n",
      "[[1, 0, 0], [1, 1, 0], [1, 2, 0]]\n",
      "[[0, 0, 1], [1, 0, 1], [2, 0, 1]]\n",
      "[[0, 2, 2], [1, 2, 2], [2, 2, 2]]\n",
      "[[0, 0, 3], [0, 1, 3], [0, 2, 3]]\n",
      "[[2, 0, 4], [2, 1, 4], [2, 2, 4]]\n",
      "[[0, 1, 5], [1, 1, 5], [2, 1, 5]]\n",
      "[[1, 1, 7], [1, 1, 8]]\n"
     ]
    }
   ],
   "source": [
    "all_cubes = set()\n",
    "bricks = []\n",
    "with open('example_input') as f:\n",
    "    for line in f:\n",
    "        line = line.strip().split('~')\n",
    "        begins = line[0].split(',')\n",
    "        ends = line[1].split(',')\n",
    "        begin_x = int(begins[0])\n",
    "        begin_y = int(begins[1])\n",
    "        begin_z = int(begins[2])\n",
    "        end_x = int(ends[0])\n",
    "        end_y = int(ends[1])\n",
    "        end_z = int(ends[2])\n",
    "        brick = []\n",
    "        for x in range(begin_x, end_x+1):\n",
    "            for y in range(begin_y, end_y+1):\n",
    "                for z in range(begin_z, end_z+1):\n",
    "                    brick.append([x, y, z])\n",
    "                    all_cubes.add((x, y, z))\n",
    "        bricks.append(brick)\n",
    "\n",
    "print(\"Before shift\")\n",
    "for brick in bricks:\n",
    "    print(brick)\n",
    "\n",
    "for brick in bricks:\n",
    "    for cube in brick:\n",
    "        if cube[2]-1 in all_cubes or cube[2]-1 == 0:\n",
    "            break\n",
    "    for cube in brick:\n",
    "        all_cubes.remove(tuple(cube))\n",
    "        cube[2] -= 1\n",
    "        all_cubes.add(tuple(cube))\n",
    "\n",
    "print(\"After shift\")\n",
    "for brick in bricks:\n",
    "    print(brick)"
   ]
  }
 ],
 "metadata": {
  "kernelspec": {
   "display_name": ".venv",
   "language": "python",
   "name": "python3"
  },
  "language_info": {
   "codemirror_mode": {
    "name": "ipython",
    "version": 3
   },
   "file_extension": ".py",
   "mimetype": "text/x-python",
   "name": "python",
   "nbconvert_exporter": "python",
   "pygments_lexer": "ipython3",
   "version": "3.10.12"
  }
 },
 "nbformat": 4,
 "nbformat_minor": 2
}

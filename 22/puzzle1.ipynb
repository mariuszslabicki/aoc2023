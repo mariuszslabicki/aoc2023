{
 "cells": [
  {
   "cell_type": "code",
   "execution_count": 10,
   "metadata": {},
   "outputs": [
    {
     "name": "stdout",
     "output_type": "stream",
     "text": [
      "463\n"
     ]
    }
   ],
   "source": [
    "all_cubes = dict()\n",
    "bricks = []\n",
    "brick_no = 0\n",
    "cubes_set = set()\n",
    "with open('input') as f:\n",
    "    for line in f:\n",
    "        line = line.strip().split('~')\n",
    "        begins = line[0].split(',')\n",
    "        ends = line[1].split(',')\n",
    "        begin_x = int(begins[0])\n",
    "        begin_y = int(begins[1])\n",
    "        begin_z = int(begins[2])\n",
    "        end_x = int(ends[0])\n",
    "        end_y = int(ends[1])\n",
    "        end_z = int(ends[2])\n",
    "        brick = []\n",
    "        for x in range(begin_x, end_x+1):\n",
    "            for y in range(begin_y, end_y+1):\n",
    "                for z in range(begin_z, end_z+1):\n",
    "                    brick.append([x, y, z])\n",
    "                    all_cubes[(x, y, z)] = brick_no\n",
    "        bricks.append(brick)\n",
    "        cubes_set.add(brick_no)\n",
    "        brick_no += 1\n",
    "\n",
    "check_one_more_time = True\n",
    "while check_one_more_time:\n",
    "    check_one_more_time = False\n",
    "    for brick in bricks:\n",
    "        can_be_shifted = True\n",
    "        for cube in brick:\n",
    "            if [cube[0], cube[1], cube[2]-1] not in brick:\n",
    "                if (cube[0], cube[1], cube[2]-1) in all_cubes or cube[2]-1 == 0:\n",
    "                    can_be_shifted = False\n",
    "                    break\n",
    "        if can_be_shifted is False:\n",
    "            continue\n",
    "        for cube in brick:\n",
    "            check_one_more_time = True\n",
    "            brick_no = all_cubes[tuple(cube)]\n",
    "            del all_cubes[tuple(cube)]\n",
    "            cube[2] -= 1\n",
    "            all_cubes[tuple(cube)] = brick_no\n",
    "\n",
    "for brick in bricks:\n",
    "    below = set()\n",
    "    brick_no = None\n",
    "    for cube in brick:\n",
    "        if (cube[0], cube[1], cube[2]-1) in all_cubes:\n",
    "            below.add(all_cubes[(cube[0], cube[1], cube[2]-1)])\n",
    "    if all_cubes[(cube[0], cube[1], cube[2])] in below:\n",
    "        below.remove(all_cubes[(cube[0], cube[1], cube[2])])\n",
    "    if len(below) == 1:\n",
    "        cubes_set = cubes_set.difference(below)\n",
    "print(len(cubes_set))"
   ]
  }
 ],
 "metadata": {
  "kernelspec": {
   "display_name": ".venv",
   "language": "python",
   "name": "python3"
  },
  "language_info": {
   "codemirror_mode": {
    "name": "ipython",
    "version": 3
   },
   "file_extension": ".py",
   "mimetype": "text/x-python",
   "name": "python",
   "nbconvert_exporter": "python",
   "pygments_lexer": "ipython3",
   "version": "3.10.12"
  }
 },
 "nbformat": 4,
 "nbformat_minor": 2
}

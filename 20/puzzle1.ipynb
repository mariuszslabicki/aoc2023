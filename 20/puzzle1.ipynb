{
 "cells": [
  {
   "cell_type": "code",
   "execution_count": 2,
   "metadata": {},
   "outputs": [
    {
     "name": "stdout",
     "output_type": "stream",
     "text": [
      "['broadcaster', 'broadcaster', [], ['a,', 'b,', 'c']]\n",
      "['a', 'flipflop', [], ['b']]\n",
      "['b', 'flipflop', [], ['c']]\n",
      "['c', 'flipflop', [], ['inv']]\n",
      "['inv', 'conjuction', [], ['a']]\n"
     ]
    }
   ],
   "source": [
    "modules = []\n",
    "\n",
    "with open('example_input') as f:\n",
    "    for line in f:\n",
    "        line = line.strip().split()\n",
    "        source = line[0]\n",
    "        kind = \"broadcaster\"\n",
    "        if source[0] == '%':\n",
    "            kind = \"flipflop\"\n",
    "            source = source[1:]\n",
    "        if source[0] == '&':\n",
    "            kind = \"conjuction\"\n",
    "            source = source[1:]\n",
    "        destinations = line[2:]\n",
    "        modules.append([source, kind, [], destinations])\n",
    "\n",
    "for item in modules:\n",
    "    print(item)"
   ]
  }
 ],
 "metadata": {
  "kernelspec": {
   "display_name": ".venv",
   "language": "python",
   "name": "python3"
  },
  "language_info": {
   "codemirror_mode": {
    "name": "ipython",
    "version": 3
   },
   "file_extension": ".py",
   "mimetype": "text/x-python",
   "name": "python",
   "nbconvert_exporter": "python",
   "pygments_lexer": "ipython3",
   "version": "3.10.12"
  }
 },
 "nbformat": 4,
 "nbformat_minor": 2
}

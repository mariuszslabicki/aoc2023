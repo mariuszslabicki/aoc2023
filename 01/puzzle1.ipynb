{
 "cells": [
  {
   "cell_type": "code",
   "execution_count": 22,
   "metadata": {},
   "outputs": [
    {
     "name": "stdout",
     "output_type": "stream",
     "text": [
      "Total: 54634\n"
     ]
    }
   ],
   "source": [
    "values = []\n",
    "\n",
    "with open('input') as f:\n",
    "    current_scanner = []\n",
    "    for line in f:\n",
    "        reading = str(line.strip())\n",
    "        for i in reading:\n",
    "            if i.isnumeric():\n",
    "                dec = 10*int(i)\n",
    "                break\n",
    "        for i in reversed(reading):\n",
    "            if i.isnumeric():\n",
    "                uni = int(i)\n",
    "                break\n",
    "        values.append(dec+uni)\n",
    "\n",
    "print(\"Total:\", sum(values))"
   ]
  }
 ],
 "metadata": {
  "kernelspec": {
   "display_name": ".venv",
   "language": "python",
   "name": "python3"
  },
  "language_info": {
   "codemirror_mode": {
    "name": "ipython",
    "version": 3
   },
   "file_extension": ".py",
   "mimetype": "text/x-python",
   "name": "python",
   "nbconvert_exporter": "python",
   "pygments_lexer": "ipython3",
   "version": "3.10.12"
  }
 },
 "nbformat": 4,
 "nbformat_minor": 2
}

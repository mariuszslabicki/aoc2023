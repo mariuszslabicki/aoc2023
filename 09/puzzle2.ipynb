{
 "cells": [
  {
   "cell_type": "code",
   "execution_count": 3,
   "metadata": {},
   "outputs": [
    {
     "name": "stdout",
     "output_type": "stream",
     "text": [
      "923\n"
     ]
    }
   ],
   "source": [
    "series = []\n",
    "\n",
    "with open('input') as f:\n",
    "    for line in f:\n",
    "        line = line.strip().split()\n",
    "        serie = []\n",
    "        for element in line:\n",
    "            serie.append(int(element))\n",
    "        series.append(serie)\n",
    "\n",
    "sum = 0\n",
    "\n",
    "for serie in series:\n",
    "    pyramid = []\n",
    "    pyramid.append(serie.copy())\n",
    "    current_serie = serie.copy()\n",
    "    while set(current_serie) != {0}:\n",
    "        diffs = []\n",
    "        for i in range(len(current_serie)-1):\n",
    "            diffs.append(current_serie[i+1] - current_serie[i])\n",
    "        current_serie = diffs\n",
    "        pyramid.append(current_serie)\n",
    "    for n in range(len(pyramid)-1, -1, -1):\n",
    "        if n == len(pyramid)-1:\n",
    "            pyramid[n].insert(0, 0)\n",
    "        else:\n",
    "            pyramid[n].insert(0, pyramid[n][0] - pyramid[n+1][0])\n",
    "    sum += pyramid[0][0]\n",
    "print(sum)"
   ]
  }
 ],
 "metadata": {
  "kernelspec": {
   "display_name": ".venv",
   "language": "python",
   "name": "python3"
  },
  "language_info": {
   "codemirror_mode": {
    "name": "ipython",
    "version": 3
   },
   "file_extension": ".py",
   "mimetype": "text/x-python",
   "name": "python",
   "nbconvert_exporter": "python",
   "pygments_lexer": "ipython3",
   "version": "3.10.12"
  }
 },
 "nbformat": 4,
 "nbformat_minor": 2
}

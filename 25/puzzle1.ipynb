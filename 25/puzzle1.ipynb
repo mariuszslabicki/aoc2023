{
 "cells": [
  {
   "cell_type": "code",
   "execution_count": 1,
   "metadata": {},
   "outputs": [
    {
     "name": "stdout",
     "output_type": "stream",
     "text": [
      "569904\n"
     ]
    }
   ],
   "source": [
    "import networkx as nx\n",
    "import itertools\n",
    "neighbours = dict()\n",
    "edges = []\n",
    "nodes = set()\n",
    "\n",
    "with open('input') as f:\n",
    "    for line in f:\n",
    "        line = line.strip()\n",
    "        node = line.split(':')[0]\n",
    "        ends = line.split(':')[1][1:].split(' ')\n",
    "        end_set = set()\n",
    "        nodes.add(node)\n",
    "        for end in ends:\n",
    "            end_set.add(end)\n",
    "            edges.append({node, end})\n",
    "            nodes.add(end)\n",
    "        if node not in neighbours:\n",
    "            neighbours[node] = end_set\n",
    "        else:\n",
    "            for el in end_set:\n",
    "                neighbours[node].add(el)\n",
    "        for element in ends:\n",
    "            if element not in neighbours:\n",
    "                neighbours[element] = {node}\n",
    "            else:\n",
    "                neighbours[element].add(node)\n",
    "\n",
    "G = nx.Graph()\n",
    "\n",
    "for edge in edges:\n",
    "    edge_list = list(edge)\n",
    "    G.add_edge(edge_list[0], edge_list[1], capacity=1)\n",
    "\n",
    "for ends in itertools.combinations(nodes, 2):\n",
    "    cut_value, partition = nx.minimum_cut(G, ends[0], ends[1])\n",
    "    if cut_value == 3:\n",
    "        print(len(partition[0]) * len(partition[1]))\n",
    "        break"
   ]
  }
 ],
 "metadata": {
  "kernelspec": {
   "display_name": ".venv",
   "language": "python",
   "name": "python3"
  },
  "language_info": {
   "codemirror_mode": {
    "name": "ipython",
    "version": 3
   },
   "file_extension": ".py",
   "mimetype": "text/x-python",
   "name": "python",
   "nbconvert_exporter": "python",
   "pygments_lexer": "ipython3",
   "version": "3.10.12"
  }
 },
 "nbformat": 4,
 "nbformat_minor": 2
}

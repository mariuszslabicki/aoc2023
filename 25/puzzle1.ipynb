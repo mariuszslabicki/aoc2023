{
 "cells": [
  {
   "cell_type": "code",
   "execution_count": 23,
   "metadata": {},
   "outputs": [
    {
     "name": "stdout",
     "output_type": "stream",
     "text": [
      "{'jqt', 'frs', 'lsr', 'bvb', 'hfx', 'lhk', 'xhk', 'qnr', 'nvd', 'rhn', 'cmg', 'ntq', 'rsh', 'pzl', 'rzs'}\n",
      "jqt {'nvd', 'rhn', 'xhk'}\n",
      "rhn {'hfx', 'jqt', 'bvb', 'xhk'}\n",
      "xhk {'hfx', 'jqt'}\n",
      "nvd {'jqt', 'lhk'}\n",
      "rsh {'frs', 'lsr', 'pzl'}\n",
      "frs {'qnr', 'lhk', 'lsr', 'rsh'}\n",
      "pzl {'hfx', 'nvd', 'lsr', 'rsh'}\n",
      "lsr {'lhk', 'rsh'}\n",
      "hfx {'xhk'}\n",
      "cmg {'qnr', 'nvd', 'lhk', 'bvb'}\n",
      "qnr {'nvd', 'cmg'}\n",
      "lhk {'cmg'}\n",
      "bvb {'hfx', 'cmg', 'xhk'}\n",
      "ntq {'hfx', 'jqt', 'bvb', 'xhk'}\n",
      "rzs {'qnr', 'cmg', 'lsr', 'rsh'}\n"
     ]
    }
   ],
   "source": [
    "import copy\n",
    "neighbours = dict()\n",
    "edges = []\n",
    "nodes = set()\n",
    "\n",
    "with open('example_input') as f:\n",
    "    for line in f:\n",
    "        line = line.strip()\n",
    "        node = line.split(':')[0]\n",
    "        ends = line.split(':')[1][1:].split(' ')\n",
    "        end_set = set()\n",
    "        nodes.add(node)\n",
    "        for end in ends:\n",
    "            end_set.add(end)\n",
    "            edges.append({node, end})\n",
    "            nodes.add(end)\n",
    "        if node not in neighbours:\n",
    "            neighbours[node] = end_set\n",
    "        else:\n",
    "            for el in end_set:\n",
    "                neighbours[node].add(el)\n",
    "        for element in ends:\n",
    "            if element not in neighbours:\n",
    "                neighbours[element] = {node}\n",
    "\n",
    "print(nodes)\n",
    "\n",
    "for node in nodes:\n",
    "    untouched_nodes = copy.deepcopy(nodes)\n",
    "    for node in nodes:\n",
    "        wave = [node]\n",
    "        visited_nodes = set()\n",
    "        while len(wave) > 0:\n",
    "            cur_node = wave.pop(0)\n",
    "            visited_nodes.add(cur_node)\n",
    "            for element in neighbours[cur_node]:\n",
    "                \n",
    "\n"
   ]
  }
 ],
 "metadata": {
  "kernelspec": {
   "display_name": ".venv",
   "language": "python",
   "name": "python3"
  },
  "language_info": {
   "codemirror_mode": {
    "name": "ipython",
    "version": 3
   },
   "file_extension": ".py",
   "mimetype": "text/x-python",
   "name": "python",
   "nbconvert_exporter": "python",
   "pygments_lexer": "ipython3",
   "version": "3.10.12"
  }
 },
 "nbformat": 4,
 "nbformat_minor": 2
}

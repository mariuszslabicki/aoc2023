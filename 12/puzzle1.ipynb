{
 "cells": [
  {
   "cell_type": "code",
   "execution_count": 15,
   "metadata": {},
   "outputs": [
    {
     "name": "stdout",
     "output_type": "stream",
     "text": [
      "7110\n"
     ]
    }
   ],
   "source": [
    "# 7731 is too high\n",
    "# 7335 is too high\n",
    "# 7200 is too high\n",
    "\n",
    "def countOptions(field, groups, pos, group_no, total, pos_list):\n",
    "    if group_no == len(groups):\n",
    "        if '#' not in field[pos:]:\n",
    "            total[0] += 1\n",
    "            return\n",
    "        else:\n",
    "            return\n",
    "    if pos >= len(field):\n",
    "        return\n",
    "    if field[pos] in ['.', '?']:\n",
    "        next_pos = pos+1\n",
    "        if next_pos <= len(field)-1:\n",
    "            countOptions(field, groups, next_pos, group_no, total, pos_list)\n",
    "    \n",
    "    chars_to_insert = groups[group_no]\n",
    "    if field[pos] in ['?','#']:    \n",
    "        fit_here = True\n",
    "        if pos + chars_to_insert > len(field):\n",
    "            fit_here = False\n",
    "\n",
    "        if fit_here is True:\n",
    "            for i in range(chars_to_insert):\n",
    "                if field[pos + i] not in ['?','#']:\n",
    "                    fit_here = False\n",
    "\n",
    "        if pos + chars_to_insert < len(field)-1 and field[pos + chars_to_insert] not in ['.', '?']:\n",
    "            fit_here = False\n",
    "\n",
    "        if fit_here is True:\n",
    "            pos_list.append(pos)\n",
    "            countOptions(field, groups, pos+chars_to_insert+1, group_no+1, total, pos_list)\n",
    "            pos_list.pop()\n",
    "\n",
    "fields = []\n",
    "groups_list = []\n",
    "\n",
    "with open('input') as f:\n",
    "    for line in f:\n",
    "        line = line.strip()\n",
    "        fields.append(line.split()[0] + '.')\n",
    "        second_part = line.split()[1].split(\",\")\n",
    "        group = []\n",
    "        for element in second_part:\n",
    "            group.append(int((element)))\n",
    "        groups_list.append(group)\n",
    "\n",
    "total = [0]\n",
    "\n",
    "for field, groups in zip(fields, groups_list):\n",
    "    pos_list = []\n",
    "    countOptions(field, groups, 0, 0, total, pos_list)\n",
    "\n",
    "print(total[0])"
   ]
  }
 ],
 "metadata": {
  "kernelspec": {
   "display_name": ".venv",
   "language": "python",
   "name": "python3"
  },
  "language_info": {
   "codemirror_mode": {
    "name": "ipython",
    "version": 3
   },
   "file_extension": ".py",
   "mimetype": "text/x-python",
   "name": "python",
   "nbconvert_exporter": "python",
   "pygments_lexer": "ipython3",
   "version": "3.10.12"
  }
 },
 "nbformat": 4,
 "nbformat_minor": 2
}

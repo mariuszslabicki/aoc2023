{
 "cells": [
  {
   "cell_type": "code",
   "execution_count": 2,
   "metadata": {},
   "outputs": [
    {
     "name": "stdout",
     "output_type": "stream",
     "text": [
      "Total area 104454050898331\n"
     ]
    }
   ],
   "source": [
    "coordinates = []\n",
    "perimeter = 0\n",
    "\n",
    "with open('input') as f:\n",
    "    x, y = 0, 0\n",
    "    coordinates.append([x, y])\n",
    "    for line in f:\n",
    "        line = line.strip().split()\n",
    "        val = line[2][2:7]\n",
    "        length = int(val, 16)\n",
    "        perimeter += length\n",
    "        if line[2][7] == '0':\n",
    "            x += length\n",
    "        if line[2][7] == '2':\n",
    "            x -= length\n",
    "        if line[2][7] == '3':\n",
    "            y -= length\n",
    "        if line[2][7] == '1':\n",
    "            y += length\n",
    "        coordinates.append([x, y])\n",
    "\n",
    "interior = 0\n",
    "for i in range(len(coordinates)-1):\n",
    "    interior += coordinates[i][0] * coordinates[i+1][1] - coordinates[i+1][0] * coordinates[i][1]\n",
    "\n",
    "tot = interior/2 + perimeter/2 + 1\n",
    "\n",
    "print(\"Total area\", int(tot))"
   ]
  }
 ],
 "metadata": {
  "kernelspec": {
   "display_name": ".venv",
   "language": "python",
   "name": "python3"
  },
  "language_info": {
   "codemirror_mode": {
    "name": "ipython",
    "version": 3
   },
   "file_extension": ".py",
   "mimetype": "text/x-python",
   "name": "python",
   "nbconvert_exporter": "python",
   "pygments_lexer": "ipython3",
   "version": "3.10.12"
  }
 },
 "nbformat": 4,
 "nbformat_minor": 2
}

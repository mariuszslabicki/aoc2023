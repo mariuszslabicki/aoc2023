{
 "cells": [
  {
   "cell_type": "code",
   "execution_count": 18,
   "metadata": {},
   "outputs": [
    {
     "name": "stdout",
     "output_type": "stream",
     "text": [
      "(1, 0)\n",
      "(21, 22)\n",
      "Znalazlem 75\n"
     ]
    }
   ],
   "source": [
    "map = set()\n",
    "slopes = dict()\n",
    "\n",
    "max_x = -1\n",
    "max_y =  -1\n",
    "\n",
    "start_pos = None\n",
    "end_pos = None\n",
    "\n",
    "with open('example_input') as f:\n",
    "    y = 0\n",
    "    for line in f:\n",
    "        line = line.strip()\n",
    "        if start_pos is None:\n",
    "            start_pos = (line.index('.'), 0)\n",
    "        max_x = len(line)\n",
    "        for x in range(len(line)):\n",
    "            if line[x] != '#':\n",
    "                map.add((x, y))\n",
    "            if line[x] in ['<', '>', 'v', '^']:\n",
    "                slopes[(x, y)] = line[x]\n",
    "        end_pos = (line.index('.'), y)\n",
    "        y += 1\n",
    "\n",
    "print(start_pos)\n",
    "print(end_pos)\n",
    "\n",
    "on_edge = [start_pos]\n",
    "visited = set()\n",
    "\n",
    "found = False\n",
    "\n",
    "# while found is False:\n",
    "steps = 0\n",
    "while len(on_edge) > 0:\n",
    "    new_edge = []\n",
    "    for element in on_edge:\n",
    "        if element == end_pos:\n",
    "            print(\"Znalazlem\", steps)\n",
    "            # found = True\n",
    "            # break\n",
    "        shifts = [(0, 1), (0, -1), (1, 0), (-1, 0)]\n",
    "        for shift in shifts:\n",
    "            new_candidate = (element[0] + shift[0], element[1] + shift[1])\n",
    "            if new_candidate not in map:\n",
    "                continue\n",
    "            if new_candidate in visited:\n",
    "                continue\n",
    "            new_edge.append(new_candidate)\n",
    "        visited.add(element)\n",
    "    steps += 1\n",
    "    on_edge = new_edge\n"
   ]
  }
 ],
 "metadata": {
  "kernelspec": {
   "display_name": ".venv",
   "language": "python",
   "name": "python3"
  },
  "language_info": {
   "codemirror_mode": {
    "name": "ipython",
    "version": 3
   },
   "file_extension": ".py",
   "mimetype": "text/x-python",
   "name": "python",
   "nbconvert_exporter": "python",
   "pygments_lexer": "ipython3",
   "version": "3.10.12"
  }
 },
 "nbformat": 4,
 "nbformat_minor": 2
}

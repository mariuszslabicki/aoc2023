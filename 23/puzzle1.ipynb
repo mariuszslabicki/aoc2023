{
 "cells": [
  {
   "cell_type": "code",
   "execution_count": 8,
   "metadata": {},
   "outputs": [
    {
     "name": "stdout",
     "output_type": "stream",
     "text": [
      "Found 74\n",
      "Found 82\n",
      "Found 82\n",
      "Found 86\n",
      "Found 90\n",
      "Found 94\n"
     ]
    }
   ],
   "source": [
    "def printPath(path, max_x, max_y, map, slopes):\n",
    "    print(max_x, max_y)\n",
    "    for y in range(max_y):\n",
    "        for x in range(max_x):\n",
    "            if (x, y) in path:\n",
    "                print(\"O\", end=\"\")\n",
    "                continue\n",
    "            if (x, y) in slopes:\n",
    "                print(slopes[(x, y)], end=\"\")\n",
    "                continue\n",
    "            if (x, y) in map:\n",
    "                print(\".\", end=\"\")\n",
    "            else:\n",
    "                print(\"#\", end=\"\")\n",
    "        print(\"\")\n",
    "\n",
    "map = set()\n",
    "slopes = dict()\n",
    "\n",
    "max_x = -1\n",
    "max_y =  -1\n",
    "\n",
    "start_pos = None\n",
    "end_pos = None\n",
    "\n",
    "with open('input') as f:\n",
    "    y = 0\n",
    "    for line in f:\n",
    "        line = line.strip()\n",
    "        if start_pos is None:\n",
    "            start_pos = (line.index('.'), 0)\n",
    "        max_x = len(line)\n",
    "        for x in range(len(line)):\n",
    "            if line[x] != '#':\n",
    "                map.add((x, y))\n",
    "            if line[x] in ['<', '>', 'v', '^']:\n",
    "                slopes[(x, y)] = line[x]\n",
    "        end_pos = (line.index('.'), y)\n",
    "        y += 1\n",
    "        max_y = y\n",
    "\n",
    "paths = [[start_pos]]\n",
    "\n",
    "found = False\n",
    "\n",
    "while len(paths) > 0:\n",
    "    new_paths = []\n",
    "    for path in paths:\n",
    "        if path[-1] == end_pos:\n",
    "            print(\"Found\", len(path)-1)\n",
    "        shifts = [(0, 1), (0, -1), (1, 0), (-1, 0)]\n",
    "        if path[-1] in slopes:\n",
    "            if slopes[path[-1]] == '>':\n",
    "                shifts = [(1, 0)]\n",
    "            if slopes[path[-1]] == '<':\n",
    "                shifts = [(-1, 0)]\n",
    "            if slopes[path[-1]] == 'v':\n",
    "                shifts = [(0, 1)]\n",
    "            if slopes[path[-1]] == '^':\n",
    "                shifts = [(0, -1)]\n",
    "        for shift in shifts:\n",
    "            new_candidate = (path[-1][0] + shift[0], path[-1][1] + shift[1])\n",
    "            if new_candidate not in map or new_candidate in path:\n",
    "                continue\n",
    "            new_path = path.copy()\n",
    "            new_path.append(new_candidate)\n",
    "            new_paths.append(new_path)\n",
    "    paths = new_paths\n"
   ]
  }
 ],
 "metadata": {
  "kernelspec": {
   "display_name": ".venv",
   "language": "python",
   "name": "python3"
  },
  "language_info": {
   "codemirror_mode": {
    "name": "ipython",
    "version": 3
   },
   "file_extension": ".py",
   "mimetype": "text/x-python",
   "name": "python",
   "nbconvert_exporter": "python",
   "pygments_lexer": "ipython3",
   "version": "3.10.12"
  }
 },
 "nbformat": 4,
 "nbformat_minor": 2
}

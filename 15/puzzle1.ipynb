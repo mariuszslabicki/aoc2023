{
 "cells": [
  {
   "cell_type": "code",
   "execution_count": 16,
   "metadata": {},
   "outputs": [
    {
     "name": "stdout",
     "output_type": "stream",
     "text": [
      "515495\n"
     ]
    }
   ],
   "source": [
    "def doHash(step):\n",
    "    current = 0\n",
    "    for element in step:\n",
    "        current += ord(element)\n",
    "        current *= 17\n",
    "        current %= 256\n",
    "    return current\n",
    "\n",
    "steps = []\n",
    "\n",
    "with open('input') as f:\n",
    "    for line in f:\n",
    "        steps = line.strip().split(\",\")\n",
    "\n",
    "sumHash = 0\n",
    "\n",
    "for step in steps:\n",
    "    sumHash += doHash(step)\n",
    "\n",
    "print(sumHash)\n"
   ]
  }
 ],
 "metadata": {
  "kernelspec": {
   "display_name": ".venv",
   "language": "python",
   "name": "python3"
  },
  "language_info": {
   "codemirror_mode": {
    "name": "ipython",
    "version": 3
   },
   "file_extension": ".py",
   "mimetype": "text/x-python",
   "name": "python",
   "nbconvert_exporter": "python",
   "pygments_lexer": "ipython3",
   "version": "3.10.12"
  }
 },
 "nbformat": 4,
 "nbformat_minor": 2
}

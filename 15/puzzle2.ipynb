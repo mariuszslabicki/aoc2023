{
 "cells": [
  {
   "cell_type": "code",
   "execution_count": 49,
   "metadata": {},
   "outputs": [
    {
     "name": "stdout",
     "output_type": "stream",
     "text": [
      "229349\n"
     ]
    }
   ],
   "source": [
    "from collections import deque\n",
    "\n",
    "def doHash(step):\n",
    "    current = 0\n",
    "    for element in step:\n",
    "        current += ord(element)\n",
    "        current *= 17\n",
    "        current %= 256\n",
    "    return current\n",
    "\n",
    "steps = []\n",
    "\n",
    "with open('input') as f:\n",
    "    for line in f:\n",
    "        steps = line.strip().split(\",\")\n",
    "\n",
    "box_list = []\n",
    "for i in range(256):\n",
    "    box_list.append(deque())\n",
    "\n",
    "for step in steps:\n",
    "    if step[-1] == '-':\n",
    "        label = step[:-1]\n",
    "        box_no = doHash(label)\n",
    "        boxes_to_remove = 0\n",
    "        for i in range(len(box_list[box_no])):\n",
    "            if box_list[box_no][i][0] == label:\n",
    "                boxes_to_remove += 1\n",
    "        while boxes_to_remove > 0:\n",
    "            remove_number = -1\n",
    "            for i in range(len(box_list[box_no])):\n",
    "                if box_list[box_no][i][0] == label:\n",
    "                    remove_number = i\n",
    "                    break\n",
    "            if remove_number >= 0:\n",
    "                del box_list[box_no][i]\n",
    "                boxes_to_remove -= 1\n",
    "    else:\n",
    "        label = step[:-2]\n",
    "        focal_power = int(step[-1])\n",
    "        box_no = doHash(label)\n",
    "        found = False\n",
    "        for lens in box_list[box_no]:\n",
    "            if lens[0] == label:\n",
    "                lens[1] = focal_power\n",
    "                found = True\n",
    "                break\n",
    "        if found is False:\n",
    "            box_list[box_no].append([label, focal_power])\n",
    "\n",
    "known_lens = set()\n",
    "\n",
    "for box in box_list:\n",
    "    for lens in box:\n",
    "        known_lens.add(lens[0])\n",
    "\n",
    "total_power = 0\n",
    "\n",
    "for lens_name in known_lens:\n",
    "    len_pow = 0\n",
    "    for box_no in range(256):\n",
    "        slot_no = 0\n",
    "        for lens in box_list[box_no]:\n",
    "            slot_no += 1\n",
    "            if lens_name == lens[0]:\n",
    "                len_pow = (box_no+1) * slot_no * lens[1]\n",
    "    total_power += len_pow\n",
    "print(total_power)\n"
   ]
  }
 ],
 "metadata": {
  "kernelspec": {
   "display_name": ".venv",
   "language": "python",
   "name": "python3"
  },
  "language_info": {
   "codemirror_mode": {
    "name": "ipython",
    "version": 3
   },
   "file_extension": ".py",
   "mimetype": "text/x-python",
   "name": "python",
   "nbconvert_exporter": "python",
   "pygments_lexer": "ipython3",
   "version": "3.10.12"
  }
 },
 "nbformat": 4,
 "nbformat_minor": 2
}

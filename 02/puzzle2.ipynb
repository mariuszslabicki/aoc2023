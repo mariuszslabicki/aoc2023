{
 "cells": [
  {
   "cell_type": "code",
   "execution_count": 10,
   "metadata": {},
   "outputs": [
    {
     "name": "stdout",
     "output_type": "stream",
     "text": [
      "Total: 2286\n"
     ]
    }
   ],
   "source": [
    "sum_power = 0\n",
    "\n",
    "with open('input') as f:\n",
    "    for line in f:\n",
    "        reading = str(line.strip())\n",
    "        games = reading.split(\":\")\n",
    "        game_no = int(games[0].split()[1])\n",
    "        rounds = games[1].split(\";\")\n",
    "        fewest = {}\n",
    "        fewest[\"red\"] = 0\n",
    "        fewest[\"green\"] = 0\n",
    "        fewest[\"blue\"] = 0\n",
    "        for round in rounds:\n",
    "            for element in round.split(\",\"):\n",
    "                kind = element.strip().split(\" \")\n",
    "                if fewest[kind[1]] < int(kind[0]):\n",
    "                    fewest[kind[1]] = int(kind[0])\n",
    "        sum_power += fewest[\"red\"] * fewest[\"green\"] * fewest[\"blue\"]\n",
    "\n",
    "print(\"Total:\", sum_power)"
   ]
  }
 ],
 "metadata": {
  "kernelspec": {
   "display_name": ".venv",
   "language": "python",
   "name": "python3"
  },
  "language_info": {
   "codemirror_mode": {
    "name": "ipython",
    "version": 3
   },
   "file_extension": ".py",
   "mimetype": "text/x-python",
   "name": "python",
   "nbconvert_exporter": "python",
   "pygments_lexer": "ipython3",
   "version": "3.10.12"
  }
 },
 "nbformat": 4,
 "nbformat_minor": 2
}

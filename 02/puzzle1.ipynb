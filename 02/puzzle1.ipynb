{
 "cells": [
  {
   "cell_type": "code",
   "execution_count": 5,
   "metadata": {},
   "outputs": [
    {
     "name": "stdout",
     "output_type": "stream",
     "text": [
      "Total: 2439\n"
     ]
    }
   ],
   "source": [
    "limits = {}\n",
    "limits[\"red\"] = 12\n",
    "limits[\"green\"] = 13\n",
    "limits[\"blue\"] = 14\n",
    "\n",
    "values = 0\n",
    "\n",
    "with open('input') as f:\n",
    "    for line in f:\n",
    "        reading = str(line.strip())\n",
    "        games = reading.split(\":\")\n",
    "        game_no = int(games[0].split()[1])\n",
    "        rounds = games[1].split(\";\")\n",
    "        valid = True\n",
    "        for round in rounds:\n",
    "            for element in round.split(\",\"):\n",
    "                kind = element.strip().split(\" \")\n",
    "                if limits[kind[1]] < int(kind[0]):\n",
    "                    valid = False\n",
    "        if valid is True:\n",
    "            values += game_no\n",
    "                \n",
    "\n",
    "print(\"Total:\", values)"
   ]
  }
 ],
 "metadata": {
  "kernelspec": {
   "display_name": ".venv",
   "language": "python",
   "name": "python3"
  },
  "language_info": {
   "codemirror_mode": {
    "name": "ipython",
    "version": 3
   },
   "file_extension": ".py",
   "mimetype": "text/x-python",
   "name": "python",
   "nbconvert_exporter": "python",
   "pygments_lexer": "ipython3",
   "version": "3.10.12"
  }
 },
 "nbformat": 4,
 "nbformat_minor": 2
}

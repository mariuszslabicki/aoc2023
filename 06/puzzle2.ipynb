{
 "cells": [
  {
   "cell_type": "code",
   "execution_count": 36,
   "metadata": {},
   "outputs": [
    {
     "name": "stdout",
     "output_type": "stream",
     "text": [
      "28545089\n"
     ]
    }
   ],
   "source": [
    "time = 0\n",
    "distance = 0\n",
    "\n",
    "with open('input') as f:\n",
    "    for line in f:\n",
    "        type = str(line.strip()).split(\":\")[0]\n",
    "        line = str(line.strip()).split(\":\")[1].strip().replace(\" \", \"\")\n",
    "        if type == 'Time':\n",
    "            time = int(line)\n",
    "        if type == 'Distance':\n",
    "            distance = int(line)\n",
    "\n",
    "a = None\n",
    "b = None\n",
    "\n",
    "for pressTime in range(time):\n",
    "    initialSpeed = pressTime\n",
    "    travelledDistance = initialSpeed * (time - pressTime)\n",
    "    if travelledDistance > distance:\n",
    "        if a == None:\n",
    "            a = pressTime\n",
    "        b = pressTime\n",
    "        \n",
    "print(b-a+1)"
   ]
  }
 ],
 "metadata": {
  "kernelspec": {
   "display_name": ".venv",
   "language": "python",
   "name": "python3"
  },
  "language_info": {
   "codemirror_mode": {
    "name": "ipython",
    "version": 3
   },
   "file_extension": ".py",
   "mimetype": "text/x-python",
   "name": "python",
   "nbconvert_exporter": "python",
   "pygments_lexer": "ipython3",
   "version": "3.10.12"
  }
 },
 "nbformat": 4,
 "nbformat_minor": 2
}

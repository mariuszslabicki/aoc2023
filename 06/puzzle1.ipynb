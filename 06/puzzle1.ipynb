{
 "cells": [
  {
   "cell_type": "code",
   "execution_count": 25,
   "metadata": {},
   "outputs": [
    {
     "name": "stdout",
     "output_type": "stream",
     "text": [
      "6209190\n"
     ]
    }
   ],
   "source": [
    "times = []\n",
    "distances = []\n",
    "\n",
    "result = 1\n",
    "\n",
    "with open('input') as f:\n",
    "    for line in f:\n",
    "        type = str(line.strip()).split(\":\")[0]\n",
    "        line = str(line.strip()).split(\":\")[1].strip().split()\n",
    "        if type == 'Time':\n",
    "            for element in line:\n",
    "                times.append(int(element))\n",
    "        if type == 'Distance':\n",
    "            for element in line:\n",
    "                distances.append(int(element))\n",
    "\n",
    "for i in range(len(times)):\n",
    "    raceTime = times[i]\n",
    "    dist = distances[i]\n",
    "    wins = 0\n",
    "    for pressTime in range(raceTime):\n",
    "        initialSpeed = pressTime\n",
    "        travelledDistance = initialSpeed * (times[i] - pressTime)\n",
    "        if travelledDistance > distances[i]:\n",
    "            wins += 1\n",
    "    result *= wins\n",
    "\n",
    "print(result)"
   ]
  }
 ],
 "metadata": {
  "kernelspec": {
   "display_name": ".venv",
   "language": "python",
   "name": "python3"
  },
  "language_info": {
   "codemirror_mode": {
    "name": "ipython",
    "version": 3
   },
   "file_extension": ".py",
   "mimetype": "text/x-python",
   "name": "python",
   "nbconvert_exporter": "python",
   "pygments_lexer": "ipython3",
   "version": "3.10.12"
  }
 },
 "nbformat": 4,
 "nbformat_minor": 2
}

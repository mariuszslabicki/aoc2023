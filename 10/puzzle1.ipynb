{
 "cells": [
  {
   "cell_type": "code",
   "execution_count": 116,
   "metadata": {},
   "outputs": [
    {
     "name": "stdout",
     "output_type": "stream",
     "text": [
      "6717\n"
     ]
    }
   ],
   "source": [
    "fields = {}\n",
    "start = None\n",
    "\n",
    "with open('input') as f:\n",
    "    row_no = 0\n",
    "    for line in f:\n",
    "        line = line.strip()\n",
    "        for i in range(len(line)):\n",
    "            if line[i] != '.':\n",
    "                fields[(i, row_no)] = line[i]\n",
    "                if line[i] == 'S':\n",
    "                    start = (i, row_no)\n",
    "        row_no += 1\n",
    "\n",
    "paths = [[start]]\n",
    "\n",
    "\n",
    "while True:\n",
    "    new_paths = []\n",
    "    found = False\n",
    "    for path in paths:\n",
    "        shifts = [(0, 1), (0, -1), (1, 0), (-1, 0)]\n",
    "        candidates = []\n",
    "        for shift in shifts:\n",
    "            new_field = (path[-1][0]+shift[0], path[-1][1]+shift[1])\n",
    "            if new_field not in fields:\n",
    "                continue\n",
    "            if new_field in path and new_field != start:\n",
    "                continue\n",
    "            if shift == (1, 0): #right\n",
    "                if fields[path[-1]] not in ['-', 'L', 'F', 'S']:\n",
    "                    continue\n",
    "                if fields[new_field] not in ['-', '7', 'J', 'S']:\n",
    "                    continue\n",
    "            if shift == (-1, 0): #left\n",
    "                if fields[path[-1]] not in ['-', 'J', '7', 'S']:\n",
    "                    continue\n",
    "                if fields[new_field] not in ['-', 'L', 'F', 'S']:\n",
    "                    continue\n",
    "            if shift == (0, 1): #down\n",
    "                if fields[path[-1]] not in ['|', 'F', '7', 'S']:\n",
    "                    continue\n",
    "                if fields[new_field] not in ['|', 'L', 'J', 'S']:\n",
    "                    continue\n",
    "            if shift == (0, -1): #up\n",
    "                if fields[path[-1]] not in ['|', 'L', 'J', 'S']:\n",
    "                    continue\n",
    "                if fields[new_field] not in ['|', 'F', '7', 'S']:\n",
    "                    continue\n",
    "            if len(path) > 4 and new_field == start:\n",
    "                found = True\n",
    "                print(len(path)//2)\n",
    "                break\n",
    "            if found is True:\n",
    "                break\n",
    "            new_path = path.copy()\n",
    "            new_path.append(new_field)\n",
    "            new_paths.append(new_path)\n",
    "        if found is True:\n",
    "            break\n",
    "    if found is True:\n",
    "        break\n",
    "    paths = new_paths"
   ]
  }
 ],
 "metadata": {
  "kernelspec": {
   "display_name": ".venv",
   "language": "python",
   "name": "python3"
  },
  "language_info": {
   "codemirror_mode": {
    "name": "ipython",
    "version": 3
   },
   "file_extension": ".py",
   "mimetype": "text/x-python",
   "name": "python",
   "nbconvert_exporter": "python",
   "pygments_lexer": "ipython3",
   "version": "3.10.12"
  }
 },
 "nbformat": 4,
 "nbformat_minor": 2
}

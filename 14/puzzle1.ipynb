{
 "cells": [
  {
   "cell_type": "code",
   "execution_count": 22,
   "metadata": {},
   "outputs": [
    {
     "name": "stdout",
     "output_type": "stream",
     "text": [
      "112048\n"
     ]
    }
   ],
   "source": [
    "matrix = []\n",
    "\n",
    "with open('input') as f:\n",
    "    for line in f:\n",
    "        line = line.strip()\n",
    "        new_row = []\n",
    "        for element in line:\n",
    "            new_row.append(element)\n",
    "        matrix.append(new_row)\n",
    "\n",
    "for x in range(len(matrix[0])):\n",
    "    for y in range(len(matrix)):\n",
    "        if matrix[y][x] == 'O':\n",
    "            continue\n",
    "        if matrix[y][x] == '#':\n",
    "            continue\n",
    "        if matrix[y][x] == '.':\n",
    "            for yp in range(y+1, len(matrix)):\n",
    "                if matrix[yp][x] == '#':\n",
    "                    break\n",
    "                if matrix[yp][x] == '.':\n",
    "                    continue\n",
    "                if matrix[yp][x] == 'O':\n",
    "                    matrix[y][x] = 'O'\n",
    "                    matrix[yp][x] = '.'\n",
    "                    break\n",
    "\n",
    "sum = 0\n",
    "row_no = 0\n",
    "\n",
    "for row in matrix:\n",
    "    multiplier = len(matrix) - row_no\n",
    "    for el in row:\n",
    "        if el == 'O':\n",
    "            sum += multiplier\n",
    "    row_no += 1\n",
    "\n",
    "print(sum)"
   ]
  }
 ],
 "metadata": {
  "kernelspec": {
   "display_name": ".venv",
   "language": "python",
   "name": "python3"
  },
  "language_info": {
   "codemirror_mode": {
    "name": "ipython",
    "version": 3
   },
   "file_extension": ".py",
   "mimetype": "text/x-python",
   "name": "python",
   "nbconvert_exporter": "python",
   "pygments_lexer": "ipython3",
   "version": "3.10.12"
  }
 },
 "nbformat": 4,
 "nbformat_minor": 2
}

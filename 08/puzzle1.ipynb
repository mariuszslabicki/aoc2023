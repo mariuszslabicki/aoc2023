{
 "cells": [
  {
   "cell_type": "code",
   "execution_count": 19,
   "metadata": {},
   "outputs": [
    {
     "name": "stdout",
     "output_type": "stream",
     "text": [
      "16343\n"
     ]
    }
   ],
   "source": [
    "directions = []\n",
    "nodes = {}\n",
    "\n",
    "with open('input') as f:\n",
    "    for line in f:\n",
    "        line = line.strip()\n",
    "        if len(directions) == 0:\n",
    "            for element in line:\n",
    "                if element == 'L':\n",
    "                    directions.append(0)\n",
    "                if element == 'R':\n",
    "                    directions.append(1)\n",
    "        else:\n",
    "            if len(line) > 0:\n",
    "                node = line.split(\" = \")[0]\n",
    "                moves = line.split(\" = \")[1][1:-1].split(\", \")\n",
    "                nodes[node] = moves\n",
    "\n",
    "current_node = 'AAA'\n",
    "current_dir = 0\n",
    "\n",
    "steps = 0\n",
    "\n",
    "while current_node != 'ZZZ':\n",
    "    steps += 1\n",
    "    current_node = nodes[current_node][directions[current_dir]]\n",
    "    current_dir += 1\n",
    "    if current_dir == len(directions):\n",
    "        current_dir = 0\n",
    "\n",
    "print(steps)"
   ]
  }
 ],
 "metadata": {
  "kernelspec": {
   "display_name": ".venv",
   "language": "python",
   "name": "python3"
  },
  "language_info": {
   "codemirror_mode": {
    "name": "ipython",
    "version": 3
   },
   "file_extension": ".py",
   "mimetype": "text/x-python",
   "name": "python",
   "nbconvert_exporter": "python",
   "pygments_lexer": "ipython3",
   "version": "3.10.12"
  }
 },
 "nbformat": 4,
 "nbformat_minor": 2
}

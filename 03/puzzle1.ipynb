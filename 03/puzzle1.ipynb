{
 "cells": [
  {
   "cell_type": "code",
   "execution_count": 36,
   "metadata": {},
   "outputs": [
    {
     "name": "stdout",
     "output_type": "stream",
     "text": [
      "539590\n"
     ]
    }
   ],
   "source": [
    "\n",
    "symbols = {}\n",
    "values = []\n",
    "\n",
    "with open('input') as f:\n",
    "    y = -1\n",
    "    for line in f:\n",
    "        y += 1\n",
    "        line = str(line.strip())\n",
    "        val = []\n",
    "        xpos = []\n",
    "        x = -1\n",
    "        for el in line:\n",
    "            x += 1\n",
    "\n",
    "            if el.isnumeric():\n",
    "                val.append(int(el))\n",
    "                xpos.append(x)\n",
    "                continue\n",
    "\n",
    "            if len(val) > 0:\n",
    "                value = 0\n",
    "                mult = 1\n",
    "                for comp in reversed(val):\n",
    "                    value += comp * mult\n",
    "                    mult *= 10\n",
    "                points = []\n",
    "                for xx in xpos:\n",
    "                    points.append([xx, y])\n",
    "                entry = [value, points]\n",
    "                values.append(entry)\n",
    "                val = []\n",
    "                xpos = []\n",
    "\n",
    "            if el != \".\":\n",
    "                symbols[(x, y)] = el\n",
    "\n",
    "        if len(val) > 0:\n",
    "            value = 0\n",
    "            mult = 1\n",
    "            for comp in reversed(val):\n",
    "                value += comp * mult\n",
    "                mult *= 10\n",
    "            points = []\n",
    "            for xx in xpos:\n",
    "                points.append([xx, y])\n",
    "            entry = [value, points]\n",
    "            values.append(entry)\n",
    "            val = []\n",
    "            xpos = []\n",
    "\n",
    "sum = 0\n",
    "\n",
    "for entry in values:\n",
    "    value = entry[0]\n",
    "    points = entry[1]\n",
    "    multiplier = 0 \n",
    "    for point in points:\n",
    "        if (point[0]-1, point[1]-1) in symbols:\n",
    "            multiplier = 1\n",
    "        if (point[0]-1, point[1]) in symbols:\n",
    "            multiplier = 1\n",
    "        if (point[0]-1, point[1]+1) in symbols:\n",
    "            multiplier = 1\n",
    "        if (point[0], point[1]-1) in symbols:\n",
    "            multiplier = 1\n",
    "        if (point[0], point[1]+1) in symbols:\n",
    "            multiplier = 1\n",
    "        if (point[0]+1, point[1]-1) in symbols:\n",
    "            multiplier = 1\n",
    "        if (point[0]+1, point[1]) in symbols:\n",
    "            multiplier = 1\n",
    "        if (point[0]+1, point[1]+1) in symbols:\n",
    "            multiplier = 1\n",
    "\n",
    "    sum += value * multiplier\n",
    "print(sum)\n"
   ]
  }
 ],
 "metadata": {
  "kernelspec": {
   "display_name": ".venv",
   "language": "python",
   "name": "python3"
  },
  "language_info": {
   "codemirror_mode": {
    "name": "ipython",
    "version": 3
   },
   "file_extension": ".py",
   "mimetype": "text/x-python",
   "name": "python",
   "nbconvert_exporter": "python",
   "pygments_lexer": "ipython3",
   "version": "3.10.12"
  }
 },
 "nbformat": 4,
 "nbformat_minor": 2
}

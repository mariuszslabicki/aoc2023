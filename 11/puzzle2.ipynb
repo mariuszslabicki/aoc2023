{
 "cells": [
  {
   "cell_type": "code",
   "execution_count": 14,
   "metadata": {},
   "outputs": [
    {
     "name": "stdout",
     "output_type": "stream",
     "text": [
      "447073334102\n"
     ]
    }
   ],
   "source": [
    "import math\n",
    "\n",
    "max_x = 0\n",
    "max_y = 0\n",
    "\n",
    "galaxies = set()\n",
    "\n",
    "with open('input') as f:\n",
    "    row_no = 0\n",
    "    for line in f:\n",
    "        line = line.strip()\n",
    "        for i in range(len(line)):\n",
    "            if line[i] == '#':\n",
    "                galaxies.add((i, row_no))\n",
    "            max_x = i + 1\n",
    "        row_no += 1\n",
    "    max_y = row_no\n",
    "\n",
    "missing_y = []\n",
    "for y in range(max_y):\n",
    "    contains_y = False\n",
    "    for x in range(max_x):\n",
    "        if (x, y) in galaxies:\n",
    "            contains_y = True\n",
    "    if contains_y is False:\n",
    "        missing_y.append(y)\n",
    "\n",
    "missing_x = []\n",
    "for x in range(max_x):\n",
    "    contains_x = False\n",
    "    for y in range(max_y):\n",
    "        if (x, y) in galaxies:\n",
    "            contains_x = True\n",
    "    if contains_x is False:\n",
    "        missing_x.append(x)\n",
    "\n",
    "\n",
    "sum_dist = 0\n",
    "for gal_a in galaxies:\n",
    "    for gal_b in galaxies:\n",
    "        if gal_a == gal_b:\n",
    "            continue\n",
    "        x_min = min(gal_a[0], gal_b[0])\n",
    "        x_max = max(gal_a[0], gal_b[0])\n",
    "        y_min = min(gal_a[1], gal_b[1])\n",
    "        y_max = max(gal_a[1], gal_b[1])\n",
    "        delta_x = 0\n",
    "        delta_y = 0\n",
    "        for x in missing_x:\n",
    "            if x_min < x and x < x_max:\n",
    "                delta_x += 1000000-1\n",
    "        for y in missing_y:\n",
    "            if y_min < y and y < y_max:\n",
    "                delta_y += 1000000-1\n",
    "        sum_dist += x_max+delta_x-x_min + y_max+delta_y-y_min\n",
    "\n",
    "print(sum_dist//2)\n",
    "\n"
   ]
  }
 ],
 "metadata": {
  "kernelspec": {
   "display_name": ".venv",
   "language": "python",
   "name": "python3"
  },
  "language_info": {
   "codemirror_mode": {
    "name": "ipython",
    "version": 3
   },
   "file_extension": ".py",
   "mimetype": "text/x-python",
   "name": "python",
   "nbconvert_exporter": "python",
   "pygments_lexer": "ipython3",
   "version": "3.10.12"
  }
 },
 "nbformat": 4,
 "nbformat_minor": 2
}
